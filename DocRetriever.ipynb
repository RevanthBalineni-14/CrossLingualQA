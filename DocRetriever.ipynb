{
  "cells": [
    {
      "cell_type": "code",
      "execution_count": null,
      "metadata": {
        "colab": {
          "base_uri": "https://localhost:8080/"
        },
        "id": "jkRNrOukGJ4S",
        "outputId": "ae4ec4be-7889-444c-8eef-f6b3d7f9b123"
      },
      "outputs": [
        {
          "output_type": "stream",
          "name": "stdout",
          "text": [
            "Looking in indexes: https://pypi.org/simple, https://us-python.pkg.dev/colab-wheels/public/simple/\n",
            "Collecting num2words\n",
            "  Downloading num2words-0.5.12-py3-none-any.whl (125 kB)\n",
            "\u001b[K     |████████████████████████████████| 125 kB 31.3 MB/s \n",
            "\u001b[?25hCollecting docopt>=0.6.2\n",
            "  Downloading docopt-0.6.2.tar.gz (25 kB)\n",
            "Building wheels for collected packages: docopt\n",
            "  Building wheel for docopt (setup.py) ... \u001b[?25l\u001b[?25hdone\n",
            "  Created wheel for docopt: filename=docopt-0.6.2-py2.py3-none-any.whl size=13723 sha256=95d0f8191394b174f0b697e74e959612dc0dbccee1475f5412cef631e3f991af\n",
            "  Stored in directory: /root/.cache/pip/wheels/56/ea/58/ead137b087d9e326852a851351d1debf4ada529b6ac0ec4e8c\n",
            "Successfully built docopt\n",
            "Installing collected packages: docopt, num2words\n",
            "Successfully installed docopt-0.6.2 num2words-0.5.12\n"
          ]
        }
      ],
      "source": [
        "!pip install num2words "
      ]
    },
    {
      "cell_type": "code",
      "execution_count": null,
      "metadata": {
        "id": "X6k5J_ziF6lU"
      },
      "outputs": [],
      "source": [
        "#import libraries\n",
        "\n",
        "import numpy as np\n",
        "import math\n",
        "import os\n",
        "import nltk\n",
        "from nltk.corpus import stopwords\n",
        "from nltk.tokenize import word_tokenize\n",
        "from nltk.stem import PorterStemmer\n",
        "from num2words import num2words\n",
        "from collections import defaultdict, Counter"
      ]
    },
    {
      "cell_type": "code",
      "execution_count": null,
      "metadata": {
        "id": "MDWCGKK-F6lZ"
      },
      "outputs": [],
      "source": [
        "#COMMENT OUT THE FOLLOWING LINES OF CODE TO INPUT YOUR COSTUM DOCUMENTS\n",
        "#n = int(input(\"Enter number of documents :\")) #Enter number of documents\n",
        "#corpus = []\n",
        "#for i in range(n):\n",
        "#    corpus.append(input(\"Enter document\",i,\"string:\"))\n",
        "corpus = [\n",
        "    # 'Human machine interface for lab abc computer applications',\n",
        "    # 'A survey of user opinion of computer system response time',\n",
        "    # 'The EPS user interface management system',\n",
        "    # 'System and human system engineering testing of EPS',\n",
        "    # 'Relation of user perceived response time to error measurement',\n",
        "    # 'The generation of random binary unordered trees',\n",
        "    # 'The intersection graph of paths in trees',\n",
        "    # 'Graph minors IV Widths of trees and well quasi ordering',\n",
        "    # 'Graph minors A survey'\n",
        "    'ఆప్తమాలజిస్ట్ అంటే కళ్లు డాక్టరు. ఆపిల్ పండు కోసినాక రంగు మారడానికి కారణం.',\n",
        "    'ఎలిచ్‌పూర్ తెగ బాదామి చాళుక్యులకు పాలెగాళ్ళుగా ఉండేవారు.'  'దంతిదుర్గుడు చాళుక్య రెండవ కీర్తివర్మను అధికారం నుండి కూలదోసి,',\n",
        "    ' ఆధునిక కర్ణాటక లోని గుల్బర్గా ప్రాంతం కేంద్రంగా ఒక సామ్రాజ్యాన్ని నిర్మించాడు.సా.శ. 753 లో దక్షిణ భారతదేశంలో అధికారంలోకి వచ్చిన ఈ వంశం మాన్యఖేటకు చెందిన రాష్ట్రకూటులుగా పేరుబడింది.' ,\n",
        "    'అదే సమయంలో బెంగాల్ యొక్క పాల వంశం, మాళ్వాకు చెందిన ప్రతీహార రాజవంశాలు తూర్పు, వాయవ్య భారతదేశంలో బలపడుతున్నాయి. అరబిక్ గ్రంథం, సిల్సిలాత్ అల్-తవారిఖ్ (851),',\n",
        "    ' రాష్ట్రకూటులను ప్రపంచంలోని నాలుగు ప్రధాన సామ్రాజ్యాలలో ఒకటిగా పేర్కొంది.'\n",
        "]\n",
        "doc_count = len(corpus)"
      ]
    },
    {
      "cell_type": "markdown",
      "metadata": {
        "id": "JSx_wnqeF6la"
      },
      "source": [
        "# PRE-PROCESSING"
      ]
    },
    {
      "cell_type": "code",
      "execution_count": null,
      "metadata": {
        "id": "nngZSrqkF6lc"
      },
      "outputs": [],
      "source": [
        "def convert_lower_case(data):\n",
        "    return np.char.lower(data)\n",
        "\n",
        "def remove_punctuation(data):\n",
        "    symbols = \"!\\\"#$%&()*+-./:;<=>?@[\\]^_`{|}~\\n\"\n",
        "    for i in range(len(symbols)):\n",
        "        data = np.char.replace(data, symbols[i], ' ')\n",
        "        data = np.char.replace(data, \"  \", \" \")\n",
        "    data = np.char.replace(data, ',', '')\n",
        "    return data\n",
        "\n",
        "def remove_apostrophe(data):\n",
        "    return np.char.replace(data, \"'\", \"\")\n",
        "\n",
        "def remove_stop_words(data):\n",
        "    stop_words = stopwords.words('english')\n",
        "    words = word_tokenize(str(data))\n",
        "    new_text = \"\"\n",
        "    for w in words:\n",
        "        if w not in stop_words and len(w) > 1:\n",
        "            new_text = new_text + \" \" + w\n",
        "    return new_text\n",
        "\n",
        "def convert_numbers(data):\n",
        "    tokens = word_tokenize(str(data))\n",
        "    new_text = \"\"\n",
        "    for w in tokens:\n",
        "        try:\n",
        "            w = num2words(int(w))\n",
        "        except:\n",
        "            a = 0\n",
        "        new_text = new_text + \" \" + w\n",
        "    new_text = np.char.replace(new_text, \"-\", \" \")\n",
        "    return new_text\n",
        "\n",
        "def stemming(data):\n",
        "    stemmer= PorterStemmer()\n",
        "    \n",
        "    tokens = word_tokenize(str(data))\n",
        "    new_text = \"\"\n",
        "    for w in tokens:\n",
        "        new_text = new_text + \" \" + stemmer.stem(w)\n",
        "    return new_text\n",
        "\n",
        "def preprocessing(doc):\n",
        "    doc = convert_lower_case(doc)\n",
        "    doc = remove_punctuation(doc)\n",
        "    doc = remove_apostrophe(doc)\n",
        "    doc = remove_stop_words(doc)\n",
        "    doc = convert_numbers(doc)\n",
        "    doc = stemming(doc)\n",
        "    doc = remove_punctuation(doc)\n",
        "    doc = convert_numbers(doc)\n",
        "    doc = stemming(doc)\n",
        "    doc = remove_punctuation(doc)\n",
        "    doc = remove_stop_words(doc)\n",
        "    return doc"
      ]
    },
    {
      "cell_type": "markdown",
      "metadata": {
        "id": "kg4ZnFPyF6lx"
      },
      "source": [
        "# FILE EXECUTION\n",
        "\n",
        "Before moving on to anything, we first index each word in our file to give each word in the corpus a weight for the computer to calculate the importance and relation of the word with the document at hand.\n",
        "\n",
        "There are two types of indexing\n",
        "1. Forward indexing\n",
        "2. Inverted indexing\n",
        "\n",
        "![Forward-and-inverted-index-Two-voxels-are-activated-in-each-brain-images.png](attachment:Forward-and-inverted-index-Two-voxels-are-activated-in-each-brain-images.png)"
      ]
    },
    {
      "cell_type": "markdown",
      "metadata": {
        "id": "hf_ERZULF6ly"
      },
      "source": [
        "#### CALCULATING FORWARD INDEX\n",
        "The forward index is essentially a list of pairs consisting of a document and a word, collated by the document.\n",
        "###### structure -\n",
        "```python\n",
        "forward_index = {doc1:{word1:word1_count_in_doc1,\n",
        "                       word2:word2_count_in_doc1,\n",
        "                       word3:word3_count_in_doc1}\n",
        "                ,doc2:{word4:word4_count_in_doc2,\n",
        "                       word2:word2_count_in_doc2}\n",
        "                }\n",
        "#datatype structure\n",
        "forward_index = {int:{string:int,\n",
        "                      string:int}\n",
        "                ,int:{string:int,\n",
        "                      string:int,\n",
        "                      string:int,\n",
        "                      string:int}\n",
        "                }\n",
        "```"
      ]
    },
    {
      "cell_type": "code",
      "execution_count": null,
      "metadata": {
        "colab": {
          "base_uri": "https://localhost:8080/"
        },
        "id": "kh84iG4xGqq8",
        "outputId": "d1391df1-e9f6-4723-ba63-e7fcaca7bff6"
      },
      "outputs": [
        {
          "output_type": "stream",
          "name": "stdout",
          "text": [
            "Looking in indexes: https://pypi.org/simple, https://us-python.pkg.dev/colab-wheels/public/simple/\n",
            "Requirement already satisfied: nltk in /usr/local/lib/python3.8/dist-packages (3.7)\n",
            "Requirement already satisfied: tqdm in /usr/local/lib/python3.8/dist-packages (from nltk) (4.64.1)\n",
            "Requirement already satisfied: click in /usr/local/lib/python3.8/dist-packages (from nltk) (7.1.2)\n",
            "Requirement already satisfied: joblib in /usr/local/lib/python3.8/dist-packages (from nltk) (1.2.0)\n",
            "Requirement already satisfied: regex>=2021.8.3 in /usr/local/lib/python3.8/dist-packages (from nltk) (2022.6.2)\n"
          ]
        }
      ],
      "source": [
        "!pip install nltk"
      ]
    },
    {
      "cell_type": "code",
      "execution_count": null,
      "metadata": {
        "colab": {
          "base_uri": "https://localhost:8080/"
        },
        "id": "M_mTlbxMF6l0",
        "outputId": "288ccc39-a5ae-4dd9-c522-5d4cc7f509ad"
      },
      "outputs": [
        {
          "output_type": "stream",
          "name": "stderr",
          "text": [
            "[nltk_data] Downloading package stopwords to /root/nltk_data...\n",
            "[nltk_data]   Unzipping corpora/stopwords.zip.\n",
            "[nltk_data] Downloading package punkt to /root/nltk_data...\n",
            "[nltk_data]   Unzipping tokenizers/punkt.zip.\n"
          ]
        },
        {
          "output_type": "stream",
          "name": "stdout",
          "text": [
            "Document number - 0 successfully cleaned\n",
            "Document number - 1 successfully cleaned\n",
            "Document number - 2 successfully cleaned\n",
            "Document number - 3 successfully cleaned\n",
            "Document number - 4 successfully cleaned\n",
            "\n",
            "#FORWARD INDEX\n",
            "defaultdict(<class 'dict'>, {1: {'ఆప్తమాలజిస్ట్': 1, 'అంటే': 1, 'కళ్లు': 1, 'డాక్టరు': 1, 'ఆపిల్': 1, 'పండు': 1, 'కోసినాక': 1, 'రంగు': 1, 'మారడానికి': 1, 'కారణం': 1}, 2: {'ఎలిచ్\\u200cపూర్': 1, 'తెగ': 1, 'బాదామి': 1, 'చాళుక్యులకు': 1, 'పాలెగాళ్ళుగా': 1, 'ఉండేవారు': 1, 'దంతిదుర్గుడు': 1, 'చాళుక్య': 1, 'రెండవ': 1, 'కీర్తివర్మను': 1, 'అధికారం': 1, 'నుండి': 1, 'కూలదోసి': 1}, 3: {'ఆధునిక': 1, 'కర్ణాటక': 1, 'లోని': 1, 'గుల్బర్గా': 1, 'ప్రాంతం': 1, 'కేంద్రంగా': 1, 'ఒక': 1, 'సామ్రాజ్యాన్ని': 1, 'నిర్మించాడు': 1, 'సా': 1, 'seven': 1, 'hundr': 1, 'fifti': 1, 'three': 1, 'లో': 1, 'దక్షిణ': 1, 'భారతదేశంలో': 1, 'అధికారంలోకి': 1, 'వచ్చిన': 1, 'వంశం': 1, 'మాన్యఖేటకు': 1, 'చెందిన': 1, 'రాష్ట్రకూటులుగా': 1, 'పేరుబడింది': 1}, 4: {'అదే': 1, 'సమయంలో': 1, 'బెంగాల్': 1, 'యొక్క': 1, 'పాల': 1, 'వంశం': 1, 'మాళ్వాకు': 1, 'చెందిన': 1, 'ప్రతీహార': 1, 'రాజవంశాలు': 1, 'తూర్పు': 1, 'వాయవ్య': 1, 'భారతదేశంలో': 1, 'బలపడుతున్నాయి': 1, 'అరబిక్': 1, 'గ్రంథం': 1, 'సిల్సిలాత్': 1, 'అల్': 1, 'తవారిఖ్': 1, 'eight': 1, 'hundr': 1, 'fifti': 1, 'one': 1}, 5: {'రాష్ట్రకూటులను': 1, 'ప్రపంచంలోని': 1, 'నాలుగు': 1, 'ప్రధాన': 1, 'సామ్రాజ్యాలలో': 1, 'ఒకటిగా': 1, 'పేర్కొంది': 1}})\n",
            "1 {'ఆప్తమాలజిస్ట్': 1, 'అంటే': 1, 'కళ్లు': 1, 'డాక్టరు': 1, 'ఆపిల్': 1, 'పండు': 1, 'కోసినాక': 1, 'రంగు': 1, 'మారడానికి': 1, 'కారణం': 1}\n",
            "2 {'ఎలిచ్\\u200cపూర్': 1, 'తెగ': 1, 'బాదామి': 1, 'చాళుక్యులకు': 1, 'పాలెగాళ్ళుగా': 1, 'ఉండేవారు': 1, 'దంతిదుర్గుడు': 1, 'చాళుక్య': 1, 'రెండవ': 1, 'కీర్తివర్మను': 1, 'అధికారం': 1, 'నుండి': 1, 'కూలదోసి': 1}\n",
            "3 {'ఆధునిక': 1, 'కర్ణాటక': 1, 'లోని': 1, 'గుల్బర్గా': 1, 'ప్రాంతం': 1, 'కేంద్రంగా': 1, 'ఒక': 1, 'సామ్రాజ్యాన్ని': 1, 'నిర్మించాడు': 1, 'సా': 1, 'seven': 1, 'hundr': 1, 'fifti': 1, 'three': 1, 'లో': 1, 'దక్షిణ': 1, 'భారతదేశంలో': 1, 'అధికారంలోకి': 1, 'వచ్చిన': 1, 'వంశం': 1, 'మాన్యఖేటకు': 1, 'చెందిన': 1, 'రాష్ట్రకూటులుగా': 1, 'పేరుబడింది': 1}\n",
            "4 {'అదే': 1, 'సమయంలో': 1, 'బెంగాల్': 1, 'యొక్క': 1, 'పాల': 1, 'వంశం': 1, 'మాళ్వాకు': 1, 'చెందిన': 1, 'ప్రతీహార': 1, 'రాజవంశాలు': 1, 'తూర్పు': 1, 'వాయవ్య': 1, 'భారతదేశంలో': 1, 'బలపడుతున్నాయి': 1, 'అరబిక్': 1, 'గ్రంథం': 1, 'సిల్సిలాత్': 1, 'అల్': 1, 'తవారిఖ్': 1, 'eight': 1, 'hundr': 1, 'fifti': 1, 'one': 1}\n",
            "5 {'రాష్ట్రకూటులను': 1, 'ప్రపంచంలోని': 1, 'నాలుగు': 1, 'ప్రధాన': 1, 'సామ్రాజ్యాలలో': 1, 'ఒకటిగా': 1, 'పేర్కొంది': 1}\n"
          ]
        }
      ],
      "source": [
        "import nltk\n",
        "nltk.download('stopwords')\n",
        "nltk.download('punkt')\n",
        "docid = 0\n",
        "forward_index = defaultdict(dict)\n",
        "for doc in corpus:\n",
        "\n",
        "    #PREPROCESS DATA\n",
        "    doc = preprocessing(doc)\n",
        "    print(\"Document number -\",docid,\"successfully cleaned\")\n",
        "\n",
        "    doc = doc.split()\n",
        "    docid+=1\n",
        "\n",
        "    #FORWARD INDEX\n",
        "    forward_index[docid]=dict(Counter(doc))\n",
        "\n",
        "print(\"\\n#FORWARD INDEX\")\n",
        "print(forward_index)\n",
        "for i,j in dict(forward_index).items():\n",
        "    print(i,j)"
      ]
    },
    {
      "cell_type": "markdown",
      "metadata": {
        "id": "y6185di8F6l1"
      },
      "source": [
        "#### CALCULATING INVERTED INDEX\n",
        "An inverted index is an index data structure storing a mapping from content, such as words or numbers, to its locations in a document or a set of documents\n",
        "###### structure -\n",
        "```python\n",
        "forward_index = {word1:{doc1:word1_count_in_doc1,\n",
        "                        doc2:word1_count_in_doc2,\n",
        "                        doc3:word1_count_in_doc3,\n",
        "                        doc4:word1_count_in_doc4,\n",
        "                        doc5:word1_count_in_doc5}\n",
        "                ,word2:{doc4:word2_count_in_doc4,\n",
        "                        doc6:word2_count_in_doc6,}\n",
        "                }\n",
        "#datatype structure\n",
        "forward_index = {string:{int:int,\n",
        "                         int:int}\n",
        "                ,string:{int:int,\n",
        "                         int:int,\n",
        "                         int:int,\n",
        "                         int:int}\n",
        "                }\n",
        "```"
      ]
    },
    {
      "cell_type": "code",
      "execution_count": null,
      "metadata": {
        "colab": {
          "base_uri": "https://localhost:8080/"
        },
        "id": "h9e-BeOXF6l2",
        "outputId": "bd0ed3aa-37a7-45fa-b0e2-1d21f789f528"
      },
      "outputs": [
        {
          "output_type": "stream",
          "name": "stdout",
          "text": [
            "defaultdict(<class 'dict'>, {'ఆప్తమాలజిస్ట్': {1: 1}, 'అంటే': {1: 1}, 'కళ్లు': {1: 1}, 'డాక్టరు': {1: 1}, 'ఆపిల్': {1: 1}, 'పండు': {1: 1}, 'కోసినాక': {1: 1}, 'రంగు': {1: 1}, 'మారడానికి': {1: 1}, 'కారణం': {1: 1}, 'ఎలిచ్\\u200cపూర్': {2: 1}, 'తెగ': {2: 1}, 'బాదామి': {2: 1}, 'చాళుక్యులకు': {2: 1}, 'పాలెగాళ్ళుగా': {2: 1}, 'ఉండేవారు': {2: 1}, 'దంతిదుర్గుడు': {2: 1}, 'చాళుక్య': {2: 1}, 'రెండవ': {2: 1}, 'కీర్తివర్మను': {2: 1}, 'అధికారం': {2: 1}, 'నుండి': {2: 1}, 'కూలదోసి': {2: 1}, 'ఆధునిక': {3: 1}, 'కర్ణాటక': {3: 1}, 'లోని': {3: 1}, 'గుల్బర్గా': {3: 1}, 'ప్రాంతం': {3: 1}, 'కేంద్రంగా': {3: 1}, 'ఒక': {3: 1}, 'సామ్రాజ్యాన్ని': {3: 1}, 'నిర్మించాడు': {3: 1}, 'సా': {3: 1}, 'seven': {3: 1}, 'hundr': {3: 1, 4: 1}, 'fifti': {3: 1, 4: 1}, 'three': {3: 1}, 'లో': {3: 1}, 'దక్షిణ': {3: 1}, 'భారతదేశంలో': {3: 1, 4: 1}, 'అధికారంలోకి': {3: 1}, 'వచ్చిన': {3: 1}, 'వంశం': {3: 1, 4: 1}, 'మాన్యఖేటకు': {3: 1}, 'చెందిన': {3: 1, 4: 1}, 'రాష్ట్రకూటులుగా': {3: 1}, 'పేరుబడింది': {3: 1}, 'అదే': {4: 1}, 'సమయంలో': {4: 1}, 'బెంగాల్': {4: 1}, 'యొక్క': {4: 1}, 'పాల': {4: 1}, 'మాళ్వాకు': {4: 1}, 'ప్రతీహార': {4: 1}, 'రాజవంశాలు': {4: 1}, 'తూర్పు': {4: 1}, 'వాయవ్య': {4: 1}, 'బలపడుతున్నాయి': {4: 1}, 'అరబిక్': {4: 1}, 'గ్రంథం': {4: 1}, 'సిల్సిలాత్': {4: 1}, 'అల్': {4: 1}, 'తవారిఖ్': {4: 1}, 'eight': {4: 1}, 'one': {4: 1}, 'రాష్ట్రకూటులను': {5: 1}, 'ప్రపంచంలోని': {5: 1}, 'నాలుగు': {5: 1}, 'ప్రధాన': {5: 1}, 'సామ్రాజ్యాలలో': {5: 1}, 'ఒకటిగా': {5: 1}, 'పేర్కొంది': {5: 1}})\n",
            "ఆప్తమాలజిస్ట్ {1: 1}\n",
            "అంటే {1: 1}\n",
            "కళ్లు {1: 1}\n",
            "డాక్టరు {1: 1}\n",
            "ఆపిల్ {1: 1}\n",
            "పండు {1: 1}\n",
            "కోసినాక {1: 1}\n",
            "రంగు {1: 1}\n",
            "మారడానికి {1: 1}\n",
            "కారణం {1: 1}\n",
            "ఎలిచ్‌పూర్ {2: 1}\n",
            "తెగ {2: 1}\n",
            "బాదామి {2: 1}\n",
            "చాళుక్యులకు {2: 1}\n",
            "పాలెగాళ్ళుగా {2: 1}\n",
            "ఉండేవారు {2: 1}\n",
            "దంతిదుర్గుడు {2: 1}\n",
            "చాళుక్య {2: 1}\n",
            "రెండవ {2: 1}\n",
            "కీర్తివర్మను {2: 1}\n",
            "అధికారం {2: 1}\n",
            "నుండి {2: 1}\n",
            "కూలదోసి {2: 1}\n",
            "ఆధునిక {3: 1}\n",
            "కర్ణాటక {3: 1}\n",
            "లోని {3: 1}\n",
            "గుల్బర్గా {3: 1}\n",
            "ప్రాంతం {3: 1}\n",
            "కేంద్రంగా {3: 1}\n",
            "ఒక {3: 1}\n",
            "సామ్రాజ్యాన్ని {3: 1}\n",
            "నిర్మించాడు {3: 1}\n",
            "సా {3: 1}\n",
            "seven {3: 1}\n",
            "hundr {3: 1, 4: 1}\n",
            "fifti {3: 1, 4: 1}\n",
            "three {3: 1}\n",
            "లో {3: 1}\n",
            "దక్షిణ {3: 1}\n",
            "భారతదేశంలో {3: 1, 4: 1}\n",
            "అధికారంలోకి {3: 1}\n",
            "వచ్చిన {3: 1}\n",
            "వంశం {3: 1, 4: 1}\n",
            "మాన్యఖేటకు {3: 1}\n",
            "చెందిన {3: 1, 4: 1}\n",
            "రాష్ట్రకూటులుగా {3: 1}\n",
            "పేరుబడింది {3: 1}\n",
            "అదే {4: 1}\n",
            "సమయంలో {4: 1}\n",
            "బెంగాల్ {4: 1}\n",
            "యొక్క {4: 1}\n",
            "పాల {4: 1}\n",
            "మాళ్వాకు {4: 1}\n",
            "ప్రతీహార {4: 1}\n",
            "రాజవంశాలు {4: 1}\n",
            "తూర్పు {4: 1}\n",
            "వాయవ్య {4: 1}\n",
            "బలపడుతున్నాయి {4: 1}\n",
            "అరబిక్ {4: 1}\n",
            "గ్రంథం {4: 1}\n",
            "సిల్సిలాత్ {4: 1}\n",
            "అల్ {4: 1}\n",
            "తవారిఖ్ {4: 1}\n",
            "eight {4: 1}\n",
            "one {4: 1}\n",
            "రాష్ట్రకూటులను {5: 1}\n",
            "ప్రపంచంలోని {5: 1}\n",
            "నాలుగు {5: 1}\n",
            "ప్రధాన {5: 1}\n",
            "సామ్రాజ్యాలలో {5: 1}\n",
            "ఒకటిగా {5: 1}\n",
            "పేర్కొంది {5: 1}\n"
          ]
        }
      ],
      "source": [
        "def get_inverted_index(Findex):\n",
        "    Iindex = defaultdict(dict)\n",
        "    subdict = dict()\n",
        "    for doc_num,index in Findex.items():\n",
        "        for token in index.keys():\n",
        "            subdict[doc_num]=index.get(token)\n",
        "            Iindex[token].update(subdict)\n",
        "            subdict.clear()\n",
        "    return Iindex\n",
        "\n",
        "inverted_index = get_inverted_index(forward_index)\n",
        "print(inverted_index)\n",
        "for i,j in dict(inverted_index).items():\n",
        "    print(i,j)"
      ]
    },
    {
      "cell_type": "markdown",
      "metadata": {
        "id": "qrc_dXq0F6l4"
      },
      "source": [
        "#### TAKING INPUT SEARCH QUERY"
      ]
    },
    {
      "cell_type": "code",
      "execution_count": null,
      "metadata": {
        "id": "Qn-bj2MSF6l5"
      },
      "outputs": [],
      "source": [
        "# search = input(\"ENTER SEARCH QUERRY :\")\n",
        "search=\"ఆప్తమాలజిస్ట్ అంటే ఏ డాక్టరు?\"\n",
        "search = preprocessing(search)\n",
        "search = search.split()"
      ]
    },
    {
      "cell_type": "markdown",
      "metadata": {
        "id": "tQc7T8-IF6l6"
      },
      "source": [
        "## TERMINOLOGY\n",
        "\n",
        "#### TERM FREQUENCY -\n",
        "The measurement of frequency of a word in a document.\n",
        "\n",
        "`\n",
        "TF = count of term in document / number of words in document\n",
        "`"
      ]
    },
    {
      "cell_type": "code",
      "execution_count": null,
      "metadata": {
        "id": "9obk8utyF6l7"
      },
      "outputs": [],
      "source": [
        "# TERM FREQUENCY\n",
        "def termFrequency(token,doc):\n",
        "    return inverted_index[token].get(doc,0)/sum(forward_index[doc].values())"
      ]
    },
    {
      "cell_type": "markdown",
      "metadata": {
        "id": "3Hn8s_zLF6l8"
      },
      "source": [
        "#### DOCUMENT FREQUENCY -\n",
        "The measurement of number of documents in which the word is present\n",
        "\n",
        "`\n",
        "DF = occurrence of term in documents\n",
        "`"
      ]
    },
    {
      "cell_type": "code",
      "execution_count": null,
      "metadata": {
        "id": "3fBM7trrF6l8"
      },
      "outputs": [],
      "source": [
        "# DOCUMENT FREQUENCY\n",
        "def documentFrequency(token):\n",
        "    return len(inverted_index[token])"
      ]
    },
    {
      "cell_type": "markdown",
      "metadata": {
        "id": "_DnI9C07F6l9"
      },
      "source": [
        "#### INVERSE DOCUMENT FREQUENCY -\n",
        "The measurement of informativeness of term t.\n",
        "1. IDF is very low for the most occurring words\n",
        "2. IDF is higher for lesser occurring words\n",
        "\n",
        "`\n",
        "IDF = log(N/(df + 1))\n",
        "`"
      ]
    },
    {
      "cell_type": "code",
      "execution_count": null,
      "metadata": {
        "id": "e1xsMOeGF6l-"
      },
      "outputs": [],
      "source": [
        "# INVERSE DOCUMENT FREQUENCY\n",
        "def inverseDocumentFrequency(docID, DocFreq):\n",
        "    return math.log(docID/(DocFreq+1))"
      ]
    },
    {
      "cell_type": "markdown",
      "metadata": {
        "id": "c-kgvJynF6l-"
      },
      "source": [
        "#### TERM FREQUENCY - INVERSE DOCUMENT FREQUENCY (TF-IDF)-\n",
        "TF_IDF = Term Frequency (TF) * Inverse Document Frequency (IDF)"
      ]
    },
    {
      "cell_type": "code",
      "execution_count": null,
      "metadata": {
        "id": "sm3dMgiNF6l_"
      },
      "outputs": [],
      "source": [
        "# TERM FREQUENCY - INVERSE DOCUMENT FREQUENCY\n",
        "def TF_IDF(TF, IDF):\n",
        "    return TF*IDF"
      ]
    },
    {
      "cell_type": "markdown",
      "metadata": {
        "id": "XojYyCLvF6mA"
      },
      "source": [
        "### COMPUTE TF-IDF VECTORS AND MAGNITUDE OF SEARCH QUERY"
      ]
    },
    {
      "cell_type": "code",
      "execution_count": null,
      "metadata": {
        "colab": {
          "base_uri": "https://localhost:8080/"
        },
        "id": "T6jGB93qF6mB",
        "outputId": "e40c2e81-3e07-4e0a-f879-562a3000b3c8"
      },
      "outputs": [
        {
          "output_type": "stream",
          "name": "stdout",
          "text": [
            "defaultdict(<class 'float'>, {1: 0.08395887053184749}) {1: 0.0070490919409835285}\n"
          ]
        }
      ],
      "source": [
        "def tf_idfWeighingAndVectorization(query):\n",
        "    Scores = defaultdict(float)\n",
        "    Length = defaultdict(float)\n",
        "    q_total = len(query)\n",
        "    q_counter = Counter(query)\n",
        "    for token in set(query):\n",
        "        \n",
        "        # CALCULATING TF OF `token` IN SEARCH QUERY\n",
        "        TFq = q_counter[token]/q_total\n",
        "        \n",
        "        # CALULATING DF OF `token`\n",
        "        DF = documentFrequency(token)\n",
        "        \n",
        "        # CALCULATING IDF of `token`\n",
        "        IDF = 0\n",
        "        if DF!=0:\n",
        "            IDF = inverseDocumentFrequency(docid,DF)\n",
        "\n",
        "        # WEIGHT OF TERM `token` IN SEARCH QUERY\n",
        "        Wq = TF_IDF(TFq,IDF)\n",
        "        \n",
        "        # PARSING THROUGH POSTING LIST SEARCHING FOR EACH DOCUMENT HAVING WORD `token`\n",
        "        for d in inverted_index[token].keys():\n",
        "            \n",
        "            # CALCULATING TF OF `token` IN DOCUMENT `d`\n",
        "            TFd = termFrequency(token,d)\n",
        "            \n",
        "            # WEIGHT OF TERM `token` IN DOCUMENT `d`\n",
        "            Wd = TF_IDF(TFd,IDF)\n",
        "            \n",
        "            # UPDATING OVERALL COSINE SCORE OF EACH DOCUMENT (default 0)\n",
        "            Scores[d]+=Wq*Wd\n",
        "    \n",
        "    # CALCULATING A (||) MAGNITUDE FOR THE TERM FREQUENCY TABLE SCORES OF EACH DOCUMENT\n",
        "    Length = {docno:sum(Score**2 for Score in Scores.values()) for docno in Scores.keys()}\n",
        "\n",
        "    return Scores,Length\n",
        "\n",
        "TFIDF,magn = tf_idfWeighingAndVectorization(search)\n",
        "print(TFIDF,magn)"
      ]
    },
    {
      "cell_type": "markdown",
      "metadata": {
        "id": "2xaQI9nkF6mC"
      },
      "source": [
        "### CALCULATING COSINE SCORE\n",
        "Cosine similarity is simply a fraction where\n",
        "1. the numerator is the dot product between 2 vectors\n",
        "2. the denominator is product of the magnitude of the 2 vectors\n",
        "![cosine-similarity.png](attachment:cosine-similarity.png)|"
      ]
    },
    {
      "cell_type": "code",
      "execution_count": null,
      "metadata": {
        "colab": {
          "base_uri": "https://localhost:8080/"
        },
        "id": "LR4tbGwfF6mC",
        "outputId": "1cd1d655-6b1e-40d8-97e4-becb868f999d"
      },
      "outputs": [
        {
          "output_type": "stream",
          "name": "stdout",
          "text": [
            "{1: 1.0}\n"
          ]
        }
      ],
      "source": [
        "Cosine_Score = {}\n",
        "for d in TFIDF.keys():\n",
        "    Cosine_Score[d]=TFIDF[d]/math.sqrt(magn[d])\n",
        "print(Cosine_Score)"
      ]
    },
    {
      "cell_type": "code",
      "execution_count": null,
      "metadata": {
        "colab": {
          "base_uri": "https://localhost:8080/"
        },
        "id": "AqhcuBPDF6mE",
        "outputId": "42317cd0-eec4-4ec1-afd6-fe50cbb3fc2a"
      },
      "outputs": [
        {
          "output_type": "stream",
          "name": "stdout",
          "text": [
            "DOCUMENT NUMBER | COSINE SCORE\n",
            "1 \t|\t 1.0\n",
            "2 \t|\t 0\n",
            "3 \t|\t 0\n",
            "4 \t|\t 0\n",
            "5 \t|\t 0\n",
            "\n",
            "FOR THE SEARCH QUERY\n",
            "'ఆప్తమాలజిస్ట్ అంటే డాక్టరు'\n",
            "\n",
            "THE MOST RELAVANT DOCUMENTS (in descending order of relevancy) ARE:\n",
            "1 - ఆప్తమాలజిస్ట్ అంటే కళ్లు డాక్టరు. ఆపిల్ పండు కోసినాక రంగు మారడానికి కారణం.\n"
          ]
        }
      ],
      "source": [
        "print(\"DOCUMENT NUMBER\", \"| COSINE SCORE\")\n",
        "for docno in range(doc_count):\n",
        "    print(docno+1,\"\\t|\\t\", Cosine_Score.get(docno+1,0))\n",
        "\n",
        "cosine_sorted = sorted(Cosine_Score.items(), key=lambda item: item[1], reverse=True)\n",
        "print()\n",
        "print(\"FOR THE SEARCH QUERY\")\n",
        "print(\"\\'\"+\" \".join(search)+\"\\'\")\n",
        "print()\n",
        "print(\"THE MOST RELAVANT DOCUMENTS (in descending order of relevancy) ARE:\")\n",
        "print(*[str(docno)+\" - \"+corpus[docno-1] for docno,score in cosine_sorted],sep=\"\\n\")"
      ]
    },
    {
      "cell_type": "code",
      "execution_count": null,
      "metadata": {
        "id": "tUxNWXMpF6mF"
      },
      "outputs": [],
      "source": []
    },
    {
      "cell_type": "code",
      "execution_count": null,
      "metadata": {
        "colab": {
          "base_uri": "https://localhost:8080/"
        },
        "id": "ZlS-Ucazmp-y",
        "outputId": "9fbee62e-3caf-480a-8f23-c90edc717b1a"
      },
      "outputs": [
        {
          "output_type": "stream",
          "name": "stdout",
          "text": [
            "Looking in indexes: https://pypi.org/simple, https://us-python.pkg.dev/colab-wheels/public/simple/\n",
            "Collecting transformers\n",
            "  Downloading transformers-4.25.1-py3-none-any.whl (5.8 MB)\n",
            "\u001b[K     |████████████████████████████████| 5.8 MB 30.4 MB/s \n",
            "\u001b[?25hRequirement already satisfied: requests in /usr/local/lib/python3.8/dist-packages (from transformers) (2.23.0)\n",
            "Requirement already satisfied: packaging>=20.0 in /usr/local/lib/python3.8/dist-packages (from transformers) (21.3)\n",
            "Collecting tokenizers!=0.11.3,<0.14,>=0.11.1\n",
            "  Downloading tokenizers-0.13.2-cp38-cp38-manylinux_2_17_x86_64.manylinux2014_x86_64.whl (7.6 MB)\n",
            "\u001b[K     |████████████████████████████████| 7.6 MB 60.2 MB/s \n",
            "\u001b[?25hCollecting huggingface-hub<1.0,>=0.10.0\n",
            "  Downloading huggingface_hub-0.11.1-py3-none-any.whl (182 kB)\n",
            "\u001b[K     |████████████████████████████████| 182 kB 95.7 MB/s \n",
            "\u001b[?25hRequirement already satisfied: numpy>=1.17 in /usr/local/lib/python3.8/dist-packages (from transformers) (1.21.6)\n",
            "Requirement already satisfied: pyyaml>=5.1 in /usr/local/lib/python3.8/dist-packages (from transformers) (6.0)\n",
            "Requirement already satisfied: regex!=2019.12.17 in /usr/local/lib/python3.8/dist-packages (from transformers) (2022.6.2)\n",
            "Requirement already satisfied: tqdm>=4.27 in /usr/local/lib/python3.8/dist-packages (from transformers) (4.64.1)\n",
            "Requirement already satisfied: filelock in /usr/local/lib/python3.8/dist-packages (from transformers) (3.8.0)\n",
            "Requirement already satisfied: typing-extensions>=3.7.4.3 in /usr/local/lib/python3.8/dist-packages (from huggingface-hub<1.0,>=0.10.0->transformers) (4.1.1)\n",
            "Requirement already satisfied: pyparsing!=3.0.5,>=2.0.2 in /usr/local/lib/python3.8/dist-packages (from packaging>=20.0->transformers) (3.0.9)\n",
            "Requirement already satisfied: idna<3,>=2.5 in /usr/local/lib/python3.8/dist-packages (from requests->transformers) (2.10)\n",
            "Requirement already satisfied: certifi>=2017.4.17 in /usr/local/lib/python3.8/dist-packages (from requests->transformers) (2022.9.24)\n",
            "Requirement already satisfied: urllib3!=1.25.0,!=1.25.1,<1.26,>=1.21.1 in /usr/local/lib/python3.8/dist-packages (from requests->transformers) (1.24.3)\n",
            "Requirement already satisfied: chardet<4,>=3.0.2 in /usr/local/lib/python3.8/dist-packages (from requests->transformers) (3.0.4)\n",
            "Installing collected packages: tokenizers, huggingface-hub, transformers\n",
            "Successfully installed huggingface-hub-0.11.1 tokenizers-0.13.2 transformers-4.25.1\n"
          ]
        }
      ],
      "source": [
        "!pip install transformers"
      ]
    },
    {
      "cell_type": "code",
      "execution_count": null,
      "metadata": {
        "id": "AQ8BgbRCQl6p"
      },
      "outputs": [],
      "source": [
        "# from google.colab import drive\n",
        "# drive.mount('/content/drive')"
      ]
    },
    {
      "cell_type": "code",
      "execution_count": null,
      "metadata": {
        "id": "5RctUYjEREVM"
      },
      "outputs": [],
      "source": [
        "question=\"ఆప్తమాలజిస్ట్ అంటే ఏ డాక్టరు ?\"\n",
        "\n",
        "context=\"ఆప్తమాలజిస్ట్ అంటే కళ్లు డాక్టరు. ఆపిల్ పండు కోసినాక రంగు మారడానికి కారణం డాక్టరు.\""
      ]
    },
    {
      "cell_type": "code",
      "execution_count": null,
      "metadata": {
        "colab": {
          "base_uri": "https://localhost:8080/"
        },
        "id": "BtW4pSo1mWe-",
        "outputId": "2d68cbe6-a5c9-487b-a96f-9c30f74c3b52"
      },
      "outputs": [
        {
          "output_type": "stream",
          "name": "stdout",
          "text": [
            "{'score': 0.995090901851654, 'start': 19, 'end': 24, 'answer': 'కళ్లు'}\n"
          ]
        }
      ],
      "source": [
        "from transformers.pipelines import pipeline, AutoModelForQuestionAnswering, AutoTokenizer\n",
        "from transformers import AutoTokenizer, AutoModelForQuestionAnswering\n",
        "\n",
        "\n",
        "\n",
        "model = AutoModelForQuestionAnswering.from_pretrained(\"kuppuluri/telugu_bertu_tydiqa\")\n",
        "tokenizer = AutoTokenizer.from_pretrained(\"kuppuluri/telugu_bertu_tydiqa\",\n",
        "                                          clean_text=False,\n",
        "                                          handle_chinese_chars=False,\n",
        "                                          strip_accents=False,\n",
        "                                          wordpieces_prefix='##')\n",
        "nlp = pipeline('question-answering', model=model, tokenizer=tokenizer)\n",
        "result = nlp({'question': question, 'context': context})\n",
        "print(result)"
      ]
    },
    {
      "cell_type": "code",
      "execution_count": null,
      "metadata": {
        "colab": {
          "base_uri": "https://localhost:8080/"
        },
        "id": "11jPUqabqdwp",
        "outputId": "acb868c5-0b43-47d8-c499-02df056b4eee"
      },
      "outputs": [
        {
          "output_type": "stream",
          "name": "stdout",
          "text": [
            "కళ్లు\n"
          ]
        }
      ],
      "source": [
        "print(result['answer'])"
      ]
    },
    {
      "cell_type": "code",
      "execution_count": null,
      "metadata": {
        "colab": {
          "base_uri": "https://localhost:8080/"
        },
        "id": "x1gzPeWTqjVq",
        "outputId": "06a4c56e-fd06-4345-c25e-258bd72f8d7f"
      },
      "outputs": [
        {
          "output_type": "stream",
          "name": "stdout",
          "text": [
            "Looking in indexes: https://pypi.org/simple, https://us-python.pkg.dev/colab-wheels/public/simple/\n",
            "Requirement already satisfied: google-cloud-translate==2.0.0 in /usr/local/lib/python3.8/dist-packages (2.0.0)\n",
            "Requirement already satisfied: google-api-core[grpc]<2.0.0dev,>=1.14.0 in /usr/local/lib/python3.8/dist-packages (from google-cloud-translate==2.0.0) (1.34.0)\n",
            "Requirement already satisfied: google-cloud-core<2.0dev,>=1.0.3 in /usr/local/lib/python3.8/dist-packages (from google-cloud-translate==2.0.0) (1.7.3)\n",
            "Requirement already satisfied: requests<3.0.0dev,>=2.18.0 in /usr/local/lib/python3.8/dist-packages (from google-api-core[grpc]<2.0.0dev,>=1.14.0->google-cloud-translate==2.0.0) (2.28.1)\n",
            "Requirement already satisfied: protobuf!=3.20.0,!=3.20.1,!=4.21.0,!=4.21.1,!=4.21.2,!=4.21.3,!=4.21.4,!=4.21.5,<4.0.0dev,>=3.19.5 in /usr/local/lib/python3.8/dist-packages (from google-api-core[grpc]<2.0.0dev,>=1.14.0->google-cloud-translate==2.0.0) (3.19.6)\n",
            "Requirement already satisfied: google-auth<3.0dev,>=1.25.0 in /usr/local/lib/python3.8/dist-packages (from google-api-core[grpc]<2.0.0dev,>=1.14.0->google-cloud-translate==2.0.0) (1.35.0)\n",
            "Requirement already satisfied: googleapis-common-protos<2.0dev,>=1.56.2 in /usr/local/lib/python3.8/dist-packages (from google-api-core[grpc]<2.0.0dev,>=1.14.0->google-cloud-translate==2.0.0) (1.57.0)\n",
            "Requirement already satisfied: grpcio-status<2.0dev,>=1.33.2 in /usr/local/lib/python3.8/dist-packages (from google-api-core[grpc]<2.0.0dev,>=1.14.0->google-cloud-translate==2.0.0) (1.48.2)\n",
            "Requirement already satisfied: grpcio<2.0dev,>=1.33.2 in /usr/local/lib/python3.8/dist-packages (from google-api-core[grpc]<2.0.0dev,>=1.14.0->google-cloud-translate==2.0.0) (1.50.0)\n",
            "Requirement already satisfied: setuptools>=40.3.0 in /usr/local/lib/python3.8/dist-packages (from google-auth<3.0dev,>=1.25.0->google-api-core[grpc]<2.0.0dev,>=1.14.0->google-cloud-translate==2.0.0) (57.4.0)\n",
            "Requirement already satisfied: rsa<5,>=3.1.4 in /usr/local/lib/python3.8/dist-packages (from google-auth<3.0dev,>=1.25.0->google-api-core[grpc]<2.0.0dev,>=1.14.0->google-cloud-translate==2.0.0) (4.9)\n",
            "Requirement already satisfied: pyasn1-modules>=0.2.1 in /usr/local/lib/python3.8/dist-packages (from google-auth<3.0dev,>=1.25.0->google-api-core[grpc]<2.0.0dev,>=1.14.0->google-cloud-translate==2.0.0) (0.2.8)\n",
            "Requirement already satisfied: cachetools<5.0,>=2.0.0 in /usr/local/lib/python3.8/dist-packages (from google-auth<3.0dev,>=1.25.0->google-api-core[grpc]<2.0.0dev,>=1.14.0->google-cloud-translate==2.0.0) (4.2.4)\n",
            "Requirement already satisfied: six>=1.9.0 in /usr/local/lib/python3.8/dist-packages (from google-auth<3.0dev,>=1.25.0->google-api-core[grpc]<2.0.0dev,>=1.14.0->google-cloud-translate==2.0.0) (1.15.0)\n",
            "Requirement already satisfied: pyasn1<0.5.0,>=0.4.6 in /usr/local/lib/python3.8/dist-packages (from pyasn1-modules>=0.2.1->google-auth<3.0dev,>=1.25.0->google-api-core[grpc]<2.0.0dev,>=1.14.0->google-cloud-translate==2.0.0) (0.4.8)\n",
            "Requirement already satisfied: urllib3<1.27,>=1.21.1 in /usr/local/lib/python3.8/dist-packages (from requests<3.0.0dev,>=2.18.0->google-api-core[grpc]<2.0.0dev,>=1.14.0->google-cloud-translate==2.0.0) (1.24.3)\n",
            "Requirement already satisfied: certifi>=2017.4.17 in /usr/local/lib/python3.8/dist-packages (from requests<3.0.0dev,>=2.18.0->google-api-core[grpc]<2.0.0dev,>=1.14.0->google-cloud-translate==2.0.0) (2022.9.24)\n",
            "Requirement already satisfied: idna<4,>=2.5 in /usr/local/lib/python3.8/dist-packages (from requests<3.0.0dev,>=2.18.0->google-api-core[grpc]<2.0.0dev,>=1.14.0->google-cloud-translate==2.0.0) (2.10)\n",
            "Requirement already satisfied: charset-normalizer<3,>=2 in /usr/local/lib/python3.8/dist-packages (from requests<3.0.0dev,>=2.18.0->google-api-core[grpc]<2.0.0dev,>=1.14.0->google-cloud-translate==2.0.0) (2.1.1)\n"
          ]
        }
      ],
      "source": [
        "# !pip install translators --upgrade\n",
        "!pip install google-cloud-translate==2.0.0\n",
        "# import translators as ts\n",
        "# ts.google\n",
        "# ts._google.language_map\n",
        "from google.cloud import translate_v2 as translate\n",
        "translate_client = translate.Client()"
      ]
    },
    {
      "cell_type": "code",
      "source": [
        "text_var=\"hello\"\n",
        "result = translate_client.translate(text_var, target_language=\"te\")"
      ],
      "metadata": {
        "colab": {
          "base_uri": "https://localhost:8080/",
          "height": 380
        },
        "id": "dC9zs47rZLhD",
        "outputId": "1791b4d6-d0f1-472b-b8a5-947e544ab761"
      },
      "execution_count": null,
      "outputs": [
        {
          "output_type": "error",
          "ename": "RefreshError",
          "evalue": "ignored",
          "traceback": [
            "\u001b[0;31m---------------------------------------------------------------------------\u001b[0m",
            "\u001b[0;31mTransportError\u001b[0m                            Traceback (most recent call last)",
            "\u001b[0;32m/usr/local/lib/python3.8/dist-packages/google/auth/compute_engine/credentials.py\u001b[0m in \u001b[0;36mrefresh\u001b[0;34m(self, request)\u001b[0m\n\u001b[1;32m    110\u001b[0m         \u001b[0;32mtry\u001b[0m\u001b[0;34m:\u001b[0m\u001b[0;34m\u001b[0m\u001b[0;34m\u001b[0m\u001b[0m\n\u001b[0;32m--> 111\u001b[0;31m             \u001b[0mself\u001b[0m\u001b[0;34m.\u001b[0m\u001b[0m_retrieve_info\u001b[0m\u001b[0;34m(\u001b[0m\u001b[0mrequest\u001b[0m\u001b[0;34m)\u001b[0m\u001b[0;34m\u001b[0m\u001b[0;34m\u001b[0m\u001b[0m\n\u001b[0m\u001b[1;32m    112\u001b[0m             self.token, self.expiry = _metadata.get_service_account_token(\n",
            "\u001b[0;32m/usr/local/lib/python3.8/dist-packages/google/auth/compute_engine/credentials.py\u001b[0m in \u001b[0;36m_retrieve_info\u001b[0;34m(self, request)\u001b[0m\n\u001b[1;32m     86\u001b[0m         \"\"\"\n\u001b[0;32m---> 87\u001b[0;31m         info = _metadata.get_service_account_info(\n\u001b[0m\u001b[1;32m     88\u001b[0m             \u001b[0mrequest\u001b[0m\u001b[0;34m,\u001b[0m \u001b[0mservice_account\u001b[0m\u001b[0;34m=\u001b[0m\u001b[0mself\u001b[0m\u001b[0;34m.\u001b[0m\u001b[0m_service_account_email\u001b[0m\u001b[0;34m\u001b[0m\u001b[0;34m\u001b[0m\u001b[0m\n",
            "\u001b[0;32m/usr/local/lib/python3.8/dist-packages/google/auth/compute_engine/_metadata.py\u001b[0m in \u001b[0;36mget_service_account_info\u001b[0;34m(request, service_account)\u001b[0m\n\u001b[1;32m    233\u001b[0m     \u001b[0;31m# for more on the use of 'recursive'.\u001b[0m\u001b[0;34m\u001b[0m\u001b[0;34m\u001b[0m\u001b[0;34m\u001b[0m\u001b[0m\n\u001b[0;32m--> 234\u001b[0;31m     \u001b[0;32mreturn\u001b[0m \u001b[0mget\u001b[0m\u001b[0;34m(\u001b[0m\u001b[0mrequest\u001b[0m\u001b[0;34m,\u001b[0m \u001b[0mpath\u001b[0m\u001b[0;34m,\u001b[0m \u001b[0mparams\u001b[0m\u001b[0;34m=\u001b[0m\u001b[0;34m{\u001b[0m\u001b[0;34m\"recursive\"\u001b[0m\u001b[0;34m:\u001b[0m \u001b[0;34m\"true\"\u001b[0m\u001b[0;34m}\u001b[0m\u001b[0;34m)\u001b[0m\u001b[0;34m\u001b[0m\u001b[0;34m\u001b[0m\u001b[0m\n\u001b[0m\u001b[1;32m    235\u001b[0m \u001b[0;34m\u001b[0m\u001b[0m\n",
            "\u001b[0;32m/usr/local/lib/python3.8/dist-packages/google/auth/compute_engine/_metadata.py\u001b[0m in \u001b[0;36mget\u001b[0;34m(request, path, root, params, recursive, retry_count)\u001b[0m\n\u001b[1;32m    181\u001b[0m     \u001b[0;32melse\u001b[0m\u001b[0;34m:\u001b[0m\u001b[0;34m\u001b[0m\u001b[0;34m\u001b[0m\u001b[0m\n\u001b[0;32m--> 182\u001b[0;31m         raise exceptions.TransportError(\n\u001b[0m\u001b[1;32m    183\u001b[0m             \u001b[0;34m\"Failed to retrieve {} from the Google Compute Engine\"\u001b[0m\u001b[0;34m\u001b[0m\u001b[0;34m\u001b[0m\u001b[0m\n",
            "\u001b[0;31mTransportError\u001b[0m: (\"Failed to retrieve http://metadata.google.internal/computeMetadata/v1/instance/service-accounts/default/?recursive=true from the Google Compute Enginemetadata service. Status: 404 Response:\\nb''\", <google.auth.transport.requests._Response object at 0x7f34668c0970>)",
            "\nThe above exception was the direct cause of the following exception:\n",
            "\u001b[0;31mRefreshError\u001b[0m                              Traceback (most recent call last)",
            "\u001b[0;32m<ipython-input-8-9a88d8e81571>\u001b[0m in \u001b[0;36m<module>\u001b[0;34m\u001b[0m\n\u001b[1;32m      1\u001b[0m \u001b[0mtext_var\u001b[0m\u001b[0;34m=\u001b[0m\u001b[0;34m\"hello\"\u001b[0m\u001b[0;34m\u001b[0m\u001b[0;34m\u001b[0m\u001b[0m\n\u001b[0;32m----> 2\u001b[0;31m \u001b[0mresult\u001b[0m \u001b[0;34m=\u001b[0m \u001b[0mtranslate_client\u001b[0m\u001b[0;34m.\u001b[0m\u001b[0mtranslate\u001b[0m\u001b[0;34m(\u001b[0m\u001b[0mtext_var\u001b[0m\u001b[0;34m,\u001b[0m \u001b[0mtarget_language\u001b[0m\u001b[0;34m=\u001b[0m\u001b[0;34m\"te\"\u001b[0m\u001b[0;34m)\u001b[0m\u001b[0;34m\u001b[0m\u001b[0;34m\u001b[0m\u001b[0m\n\u001b[0m",
            "\u001b[0;32m/usr/local/lib/python3.8/dist-packages/google/cloud/translate_v2/client.py\u001b[0m in \u001b[0;36mtranslate\u001b[0;34m(self, values, target_language, format_, source_language, customization_ids, model)\u001b[0m\n\u001b[1;32m    266\u001b[0m         }\n\u001b[1;32m    267\u001b[0m \u001b[0;34m\u001b[0m\u001b[0m\n\u001b[0;32m--> 268\u001b[0;31m         \u001b[0mresponse\u001b[0m \u001b[0;34m=\u001b[0m \u001b[0mself\u001b[0m\u001b[0;34m.\u001b[0m\u001b[0m_connection\u001b[0m\u001b[0;34m.\u001b[0m\u001b[0mapi_request\u001b[0m\u001b[0;34m(\u001b[0m\u001b[0mmethod\u001b[0m\u001b[0;34m=\u001b[0m\u001b[0;34m\"POST\"\u001b[0m\u001b[0;34m,\u001b[0m \u001b[0mpath\u001b[0m\u001b[0;34m=\u001b[0m\u001b[0;34m\"\"\u001b[0m\u001b[0;34m,\u001b[0m \u001b[0mdata\u001b[0m\u001b[0;34m=\u001b[0m\u001b[0mdata\u001b[0m\u001b[0;34m)\u001b[0m\u001b[0;34m\u001b[0m\u001b[0;34m\u001b[0m\u001b[0m\n\u001b[0m\u001b[1;32m    269\u001b[0m \u001b[0;34m\u001b[0m\u001b[0m\n\u001b[1;32m    270\u001b[0m         \u001b[0mtranslations\u001b[0m \u001b[0;34m=\u001b[0m \u001b[0mresponse\u001b[0m\u001b[0;34m.\u001b[0m\u001b[0mget\u001b[0m\u001b[0;34m(\u001b[0m\u001b[0;34m\"data\"\u001b[0m\u001b[0;34m,\u001b[0m \u001b[0;34m{\u001b[0m\u001b[0;34m}\u001b[0m\u001b[0;34m)\u001b[0m\u001b[0;34m.\u001b[0m\u001b[0mget\u001b[0m\u001b[0;34m(\u001b[0m\u001b[0;34m\"translations\"\u001b[0m\u001b[0;34m,\u001b[0m \u001b[0;34m(\u001b[0m\u001b[0;34m)\u001b[0m\u001b[0;34m)\u001b[0m\u001b[0;34m\u001b[0m\u001b[0;34m\u001b[0m\u001b[0m\n",
            "\u001b[0;32m/usr/local/lib/python3.8/dist-packages/google/cloud/_http.py\u001b[0m in \u001b[0;36mapi_request\u001b[0;34m(self, method, path, query_params, data, content_type, headers, api_base_url, api_version, expect_json, _target_object, timeout)\u001b[0m\n\u001b[1;32m    471\u001b[0m             \u001b[0mcontent_type\u001b[0m \u001b[0;34m=\u001b[0m \u001b[0;34m\"application/json\"\u001b[0m\u001b[0;34m\u001b[0m\u001b[0;34m\u001b[0m\u001b[0m\n\u001b[1;32m    472\u001b[0m \u001b[0;34m\u001b[0m\u001b[0m\n\u001b[0;32m--> 473\u001b[0;31m         response = self._make_request(\n\u001b[0m\u001b[1;32m    474\u001b[0m             \u001b[0mmethod\u001b[0m\u001b[0;34m=\u001b[0m\u001b[0mmethod\u001b[0m\u001b[0;34m,\u001b[0m\u001b[0;34m\u001b[0m\u001b[0;34m\u001b[0m\u001b[0m\n\u001b[1;32m    475\u001b[0m             \u001b[0murl\u001b[0m\u001b[0;34m=\u001b[0m\u001b[0murl\u001b[0m\u001b[0;34m,\u001b[0m\u001b[0;34m\u001b[0m\u001b[0;34m\u001b[0m\u001b[0m\n",
            "\u001b[0;32m/usr/local/lib/python3.8/dist-packages/google/cloud/_http.py\u001b[0m in \u001b[0;36m_make_request\u001b[0;34m(self, method, url, data, content_type, headers, target_object, timeout)\u001b[0m\n\u001b[1;32m    335\u001b[0m         \u001b[0mheaders\u001b[0m\u001b[0;34m[\u001b[0m\u001b[0;34m\"User-Agent\"\u001b[0m\u001b[0;34m]\u001b[0m \u001b[0;34m=\u001b[0m \u001b[0mself\u001b[0m\u001b[0;34m.\u001b[0m\u001b[0muser_agent\u001b[0m\u001b[0;34m\u001b[0m\u001b[0;34m\u001b[0m\u001b[0m\n\u001b[1;32m    336\u001b[0m \u001b[0;34m\u001b[0m\u001b[0m\n\u001b[0;32m--> 337\u001b[0;31m         return self._do_request(\n\u001b[0m\u001b[1;32m    338\u001b[0m             \u001b[0mmethod\u001b[0m\u001b[0;34m,\u001b[0m \u001b[0murl\u001b[0m\u001b[0;34m,\u001b[0m \u001b[0mheaders\u001b[0m\u001b[0;34m,\u001b[0m \u001b[0mdata\u001b[0m\u001b[0;34m,\u001b[0m \u001b[0mtarget_object\u001b[0m\u001b[0;34m,\u001b[0m \u001b[0mtimeout\u001b[0m\u001b[0;34m=\u001b[0m\u001b[0mtimeout\u001b[0m\u001b[0;34m\u001b[0m\u001b[0;34m\u001b[0m\u001b[0m\n\u001b[1;32m    339\u001b[0m         )\n",
            "\u001b[0;32m/usr/local/lib/python3.8/dist-packages/google/cloud/_http.py\u001b[0m in \u001b[0;36m_do_request\u001b[0;34m(self, method, url, headers, data, target_object, timeout)\u001b[0m\n\u001b[1;32m    373\u001b[0m         \u001b[0;34m:\u001b[0m\u001b[0mreturns\u001b[0m\u001b[0;34m:\u001b[0m \u001b[0mThe\u001b[0m \u001b[0mHTTP\u001b[0m \u001b[0mresponse\u001b[0m\u001b[0;34m.\u001b[0m\u001b[0;34m\u001b[0m\u001b[0;34m\u001b[0m\u001b[0m\n\u001b[1;32m    374\u001b[0m         \"\"\"\n\u001b[0;32m--> 375\u001b[0;31m         return self.http.request(\n\u001b[0m\u001b[1;32m    376\u001b[0m             \u001b[0murl\u001b[0m\u001b[0;34m=\u001b[0m\u001b[0murl\u001b[0m\u001b[0;34m,\u001b[0m \u001b[0mmethod\u001b[0m\u001b[0;34m=\u001b[0m\u001b[0mmethod\u001b[0m\u001b[0;34m,\u001b[0m \u001b[0mheaders\u001b[0m\u001b[0;34m=\u001b[0m\u001b[0mheaders\u001b[0m\u001b[0;34m,\u001b[0m \u001b[0mdata\u001b[0m\u001b[0;34m=\u001b[0m\u001b[0mdata\u001b[0m\u001b[0;34m,\u001b[0m \u001b[0mtimeout\u001b[0m\u001b[0;34m=\u001b[0m\u001b[0mtimeout\u001b[0m\u001b[0;34m\u001b[0m\u001b[0;34m\u001b[0m\u001b[0m\n\u001b[1;32m    377\u001b[0m         )\n",
            "\u001b[0;32m/usr/local/lib/python3.8/dist-packages/google/auth/transport/requests.py\u001b[0m in \u001b[0;36mrequest\u001b[0;34m(self, method, url, data, headers, max_allowed_time, timeout, **kwargs)\u001b[0m\n\u001b[1;32m    474\u001b[0m \u001b[0;34m\u001b[0m\u001b[0m\n\u001b[1;32m    475\u001b[0m         \u001b[0;32mwith\u001b[0m \u001b[0mTimeoutGuard\u001b[0m\u001b[0;34m(\u001b[0m\u001b[0mremaining_time\u001b[0m\u001b[0;34m)\u001b[0m \u001b[0;32mas\u001b[0m \u001b[0mguard\u001b[0m\u001b[0;34m:\u001b[0m\u001b[0;34m\u001b[0m\u001b[0;34m\u001b[0m\u001b[0m\n\u001b[0;32m--> 476\u001b[0;31m             \u001b[0mself\u001b[0m\u001b[0;34m.\u001b[0m\u001b[0mcredentials\u001b[0m\u001b[0;34m.\u001b[0m\u001b[0mbefore_request\u001b[0m\u001b[0;34m(\u001b[0m\u001b[0mauth_request\u001b[0m\u001b[0;34m,\u001b[0m \u001b[0mmethod\u001b[0m\u001b[0;34m,\u001b[0m \u001b[0murl\u001b[0m\u001b[0;34m,\u001b[0m \u001b[0mrequest_headers\u001b[0m\u001b[0;34m)\u001b[0m\u001b[0;34m\u001b[0m\u001b[0;34m\u001b[0m\u001b[0m\n\u001b[0m\u001b[1;32m    477\u001b[0m         \u001b[0mremaining_time\u001b[0m \u001b[0;34m=\u001b[0m \u001b[0mguard\u001b[0m\u001b[0;34m.\u001b[0m\u001b[0mremaining_timeout\u001b[0m\u001b[0;34m\u001b[0m\u001b[0;34m\u001b[0m\u001b[0m\n\u001b[1;32m    478\u001b[0m \u001b[0;34m\u001b[0m\u001b[0m\n",
            "\u001b[0;32m/usr/local/lib/python3.8/dist-packages/google/auth/credentials.py\u001b[0m in \u001b[0;36mbefore_request\u001b[0;34m(self, request, method, url, headers)\u001b[0m\n\u001b[1;32m    131\u001b[0m         \u001b[0;31m# the http request.)\u001b[0m\u001b[0;34m\u001b[0m\u001b[0;34m\u001b[0m\u001b[0;34m\u001b[0m\u001b[0m\n\u001b[1;32m    132\u001b[0m         \u001b[0;32mif\u001b[0m \u001b[0;32mnot\u001b[0m \u001b[0mself\u001b[0m\u001b[0;34m.\u001b[0m\u001b[0mvalid\u001b[0m\u001b[0;34m:\u001b[0m\u001b[0;34m\u001b[0m\u001b[0;34m\u001b[0m\u001b[0m\n\u001b[0;32m--> 133\u001b[0;31m             \u001b[0mself\u001b[0m\u001b[0;34m.\u001b[0m\u001b[0mrefresh\u001b[0m\u001b[0;34m(\u001b[0m\u001b[0mrequest\u001b[0m\u001b[0;34m)\u001b[0m\u001b[0;34m\u001b[0m\u001b[0;34m\u001b[0m\u001b[0m\n\u001b[0m\u001b[1;32m    134\u001b[0m         \u001b[0mself\u001b[0m\u001b[0;34m.\u001b[0m\u001b[0mapply\u001b[0m\u001b[0;34m(\u001b[0m\u001b[0mheaders\u001b[0m\u001b[0;34m)\u001b[0m\u001b[0;34m\u001b[0m\u001b[0;34m\u001b[0m\u001b[0m\n\u001b[1;32m    135\u001b[0m \u001b[0;34m\u001b[0m\u001b[0m\n",
            "\u001b[0;32m/usr/local/lib/python3.8/dist-packages/google/auth/compute_engine/credentials.py\u001b[0m in \u001b[0;36mrefresh\u001b[0;34m(self, request)\u001b[0m\n\u001b[1;32m    115\u001b[0m         \u001b[0;32mexcept\u001b[0m \u001b[0mexceptions\u001b[0m\u001b[0;34m.\u001b[0m\u001b[0mTransportError\u001b[0m \u001b[0;32mas\u001b[0m \u001b[0mcaught_exc\u001b[0m\u001b[0;34m:\u001b[0m\u001b[0;34m\u001b[0m\u001b[0;34m\u001b[0m\u001b[0m\n\u001b[1;32m    116\u001b[0m             \u001b[0mnew_exc\u001b[0m \u001b[0;34m=\u001b[0m \u001b[0mexceptions\u001b[0m\u001b[0;34m.\u001b[0m\u001b[0mRefreshError\u001b[0m\u001b[0;34m(\u001b[0m\u001b[0mcaught_exc\u001b[0m\u001b[0;34m)\u001b[0m\u001b[0;34m\u001b[0m\u001b[0;34m\u001b[0m\u001b[0m\n\u001b[0;32m--> 117\u001b[0;31m             \u001b[0msix\u001b[0m\u001b[0;34m.\u001b[0m\u001b[0mraise_from\u001b[0m\u001b[0;34m(\u001b[0m\u001b[0mnew_exc\u001b[0m\u001b[0;34m,\u001b[0m \u001b[0mcaught_exc\u001b[0m\u001b[0;34m)\u001b[0m\u001b[0;34m\u001b[0m\u001b[0;34m\u001b[0m\u001b[0m\n\u001b[0m\u001b[1;32m    118\u001b[0m \u001b[0;34m\u001b[0m\u001b[0m\n\u001b[1;32m    119\u001b[0m     \u001b[0;34m@\u001b[0m\u001b[0mproperty\u001b[0m\u001b[0;34m\u001b[0m\u001b[0;34m\u001b[0m\u001b[0m\n",
            "\u001b[0;32m/usr/local/lib/python3.8/dist-packages/six.py\u001b[0m in \u001b[0;36mraise_from\u001b[0;34m(value, from_value)\u001b[0m\n",
            "\u001b[0;31mRefreshError\u001b[0m: (\"Failed to retrieve http://metadata.google.internal/computeMetadata/v1/instance/service-accounts/default/?recursive=true from the Google Compute Enginemetadata service. Status: 404 Response:\\nb''\", <google.auth.transport.requests._Response object at 0x7f34668c0970>)"
          ]
        }
      ]
    },
    {
      "cell_type": "code",
      "execution_count": null,
      "metadata": {
        "colab": {
          "base_uri": "https://localhost:8080/"
        },
        "id": "56frNXelrFHp",
        "outputId": "c045555e-5458-42db-e02d-10ec9e36b634"
      },
      "outputs": [
        {
          "output_type": "stream",
          "name": "stdout",
          "text": [
            "Eyes\n"
          ]
        }
      ],
      "source": [
        "eng_answer=ts.google(result['answer'], from_language='te', to_language='en')\n",
        "print(eng_answer)"
      ]
    },
    {
      "cell_type": "code",
      "execution_count": null,
      "metadata": {
        "colab": {
          "base_uri": "https://localhost:8080/"
        },
        "id": "rirr6R_P7V30",
        "outputId": "a5cd52ac-c142-4fa2-c4cc-e201319112e4"
      },
      "outputs": [
        {
          "output_type": "stream",
          "name": "stdout",
          "text": [
            "Mounted at /content/drive\n"
          ]
        }
      ],
      "source": [
        "from google.colab import drive\n",
        "drive.mount('/content/drive')"
      ]
    },
    {
      "cell_type": "code",
      "execution_count": null,
      "metadata": {
        "colab": {
          "base_uri": "https://localhost:8080/"
        },
        "id": "uJ4BHxJ0boiY",
        "outputId": "e0006eaa-ea64-4af4-ab03-03b620f2f269"
      },
      "outputs": [
        {
          "output_type": "stream",
          "name": "stdout",
          "text": [
            "Looking in indexes: https://pypi.org/simple, https://us-python.pkg.dev/colab-wheels/public/simple/\n",
            "Collecting flask-ngrok\n",
            "  Downloading flask_ngrok-0.0.25-py3-none-any.whl (3.1 kB)\n",
            "Requirement already satisfied: requests in /usr/local/lib/python3.8/dist-packages (from flask-ngrok) (2.28.1)\n",
            "Requirement already satisfied: Flask>=0.8 in /usr/local/lib/python3.8/dist-packages (from flask-ngrok) (1.1.4)\n",
            "Requirement already satisfied: Werkzeug<2.0,>=0.15 in /usr/local/lib/python3.8/dist-packages (from Flask>=0.8->flask-ngrok) (1.0.1)\n",
            "Requirement already satisfied: click<8.0,>=5.1 in /usr/local/lib/python3.8/dist-packages (from Flask>=0.8->flask-ngrok) (7.1.2)\n",
            "Requirement already satisfied: Jinja2<3.0,>=2.10.1 in /usr/local/lib/python3.8/dist-packages (from Flask>=0.8->flask-ngrok) (2.11.3)\n",
            "Requirement already satisfied: itsdangerous<2.0,>=0.24 in /usr/local/lib/python3.8/dist-packages (from Flask>=0.8->flask-ngrok) (1.1.0)\n",
            "Requirement already satisfied: MarkupSafe>=0.23 in /usr/local/lib/python3.8/dist-packages (from Jinja2<3.0,>=2.10.1->Flask>=0.8->flask-ngrok) (2.0.1)\n",
            "Requirement already satisfied: certifi>=2017.4.17 in /usr/local/lib/python3.8/dist-packages (from requests->flask-ngrok) (2022.9.24)\n",
            "Requirement already satisfied: charset-normalizer<3,>=2 in /usr/local/lib/python3.8/dist-packages (from requests->flask-ngrok) (2.1.1)\n",
            "Requirement already satisfied: idna<4,>=2.5 in /usr/local/lib/python3.8/dist-packages (from requests->flask-ngrok) (2.10)\n",
            "Requirement already satisfied: urllib3<1.27,>=1.21.1 in /usr/local/lib/python3.8/dist-packages (from requests->flask-ngrok) (1.24.3)\n",
            "Installing collected packages: flask-ngrok\n",
            "Successfully installed flask-ngrok-0.0.25\n"
          ]
        }
      ],
      "source": [
        "!pip install flask-ngrok"
      ]
    },
    {
      "cell_type": "code",
      "execution_count": null,
      "metadata": {
        "colab": {
          "base_uri": "https://localhost:8080/"
        },
        "id": "943VF_XU5m0w",
        "outputId": "db517454-8730-46ea-8ea7-40b7ea9a29ee"
      },
      "outputs": [
        {
          "output_type": "stream",
          "name": "stdout",
          "text": [
            "Looking in indexes: https://pypi.org/simple, https://us-python.pkg.dev/colab-wheels/public/simple/\n",
            "Collecting pyngrok\n",
            "  Downloading pyngrok-5.2.1.tar.gz (761 kB)\n",
            "\u001b[?25l\r\u001b[K     |▍                               | 10 kB 19.8 MB/s eta 0:00:01\r\u001b[K     |▉                               | 20 kB 30.1 MB/s eta 0:00:01\r\u001b[K     |█▎                              | 30 kB 40.2 MB/s eta 0:00:01\r\u001b[K     |█▊                              | 40 kB 30.4 MB/s eta 0:00:01\r\u001b[K     |██▏                             | 51 kB 34.8 MB/s eta 0:00:01\r\u001b[K     |██▋                             | 61 kB 39.8 MB/s eta 0:00:01\r\u001b[K     |███                             | 71 kB 28.6 MB/s eta 0:00:01\r\u001b[K     |███▍                            | 81 kB 27.3 MB/s eta 0:00:01\r\u001b[K     |███▉                            | 92 kB 29.4 MB/s eta 0:00:01\r\u001b[K     |████▎                           | 102 kB 31.6 MB/s eta 0:00:01\r\u001b[K     |████▊                           | 112 kB 31.6 MB/s eta 0:00:01\r\u001b[K     |█████▏                          | 122 kB 31.6 MB/s eta 0:00:01\r\u001b[K     |█████▋                          | 133 kB 31.6 MB/s eta 0:00:01\r\u001b[K     |██████                          | 143 kB 31.6 MB/s eta 0:00:01\r\u001b[K     |██████▌                         | 153 kB 31.6 MB/s eta 0:00:01\r\u001b[K     |██████▉                         | 163 kB 31.6 MB/s eta 0:00:01\r\u001b[K     |███████▎                        | 174 kB 31.6 MB/s eta 0:00:01\r\u001b[K     |███████▊                        | 184 kB 31.6 MB/s eta 0:00:01\r\u001b[K     |████████▏                       | 194 kB 31.6 MB/s eta 0:00:01\r\u001b[K     |████████▋                       | 204 kB 31.6 MB/s eta 0:00:01\r\u001b[K     |█████████                       | 215 kB 31.6 MB/s eta 0:00:01\r\u001b[K     |█████████▌                      | 225 kB 31.6 MB/s eta 0:00:01\r\u001b[K     |██████████                      | 235 kB 31.6 MB/s eta 0:00:01\r\u001b[K     |██████████▎                     | 245 kB 31.6 MB/s eta 0:00:01\r\u001b[K     |██████████▊                     | 256 kB 31.6 MB/s eta 0:00:01\r\u001b[K     |███████████▏                    | 266 kB 31.6 MB/s eta 0:00:01\r\u001b[K     |███████████▋                    | 276 kB 31.6 MB/s eta 0:00:01\r\u001b[K     |████████████                    | 286 kB 31.6 MB/s eta 0:00:01\r\u001b[K     |████████████▌                   | 296 kB 31.6 MB/s eta 0:00:01\r\u001b[K     |█████████████                   | 307 kB 31.6 MB/s eta 0:00:01\r\u001b[K     |█████████████▍                  | 317 kB 31.6 MB/s eta 0:00:01\r\u001b[K     |█████████████▊                  | 327 kB 31.6 MB/s eta 0:00:01\r\u001b[K     |██████████████▏                 | 337 kB 31.6 MB/s eta 0:00:01\r\u001b[K     |██████████████▋                 | 348 kB 31.6 MB/s eta 0:00:01\r\u001b[K     |███████████████                 | 358 kB 31.6 MB/s eta 0:00:01\r\u001b[K     |███████████████▌                | 368 kB 31.6 MB/s eta 0:00:01\r\u001b[K     |████████████████                | 378 kB 31.6 MB/s eta 0:00:01\r\u001b[K     |████████████████▍               | 389 kB 31.6 MB/s eta 0:00:01\r\u001b[K     |████████████████▉               | 399 kB 31.6 MB/s eta 0:00:01\r\u001b[K     |█████████████████▏              | 409 kB 31.6 MB/s eta 0:00:01\r\u001b[K     |█████████████████▋              | 419 kB 31.6 MB/s eta 0:00:01\r\u001b[K     |██████████████████              | 430 kB 31.6 MB/s eta 0:00:01\r\u001b[K     |██████████████████▌             | 440 kB 31.6 MB/s eta 0:00:01\r\u001b[K     |███████████████████             | 450 kB 31.6 MB/s eta 0:00:01\r\u001b[K     |███████████████████▍            | 460 kB 31.6 MB/s eta 0:00:01\r\u001b[K     |███████████████████▉            | 471 kB 31.6 MB/s eta 0:00:01\r\u001b[K     |████████████████████▎           | 481 kB 31.6 MB/s eta 0:00:01\r\u001b[K     |████████████████████▋           | 491 kB 31.6 MB/s eta 0:00:01\r\u001b[K     |█████████████████████           | 501 kB 31.6 MB/s eta 0:00:01\r\u001b[K     |█████████████████████▌          | 512 kB 31.6 MB/s eta 0:00:01\r\u001b[K     |██████████████████████          | 522 kB 31.6 MB/s eta 0:00:01\r\u001b[K     |██████████████████████▍         | 532 kB 31.6 MB/s eta 0:00:01\r\u001b[K     |██████████████████████▉         | 542 kB 31.6 MB/s eta 0:00:01\r\u001b[K     |███████████████████████▎        | 552 kB 31.6 MB/s eta 0:00:01\r\u001b[K     |███████████████████████▊        | 563 kB 31.6 MB/s eta 0:00:01\r\u001b[K     |████████████████████████        | 573 kB 31.6 MB/s eta 0:00:01\r\u001b[K     |████████████████████████▌       | 583 kB 31.6 MB/s eta 0:00:01\r\u001b[K     |█████████████████████████       | 593 kB 31.6 MB/s eta 0:00:01\r\u001b[K     |█████████████████████████▍      | 604 kB 31.6 MB/s eta 0:00:01\r\u001b[K     |█████████████████████████▉      | 614 kB 31.6 MB/s eta 0:00:01\r\u001b[K     |██████████████████████████▎     | 624 kB 31.6 MB/s eta 0:00:01\r\u001b[K     |██████████████████████████▊     | 634 kB 31.6 MB/s eta 0:00:01\r\u001b[K     |███████████████████████████▏    | 645 kB 31.6 MB/s eta 0:00:01\r\u001b[K     |███████████████████████████▌    | 655 kB 31.6 MB/s eta 0:00:01\r\u001b[K     |████████████████████████████    | 665 kB 31.6 MB/s eta 0:00:01\r\u001b[K     |████████████████████████████▍   | 675 kB 31.6 MB/s eta 0:00:01\r\u001b[K     |████████████████████████████▉   | 686 kB 31.6 MB/s eta 0:00:01\r\u001b[K     |█████████████████████████████▎  | 696 kB 31.6 MB/s eta 0:00:01\r\u001b[K     |█████████████████████████████▊  | 706 kB 31.6 MB/s eta 0:00:01\r\u001b[K     |██████████████████████████████▏ | 716 kB 31.6 MB/s eta 0:00:01\r\u001b[K     |██████████████████████████████▋ | 727 kB 31.6 MB/s eta 0:00:01\r\u001b[K     |███████████████████████████████ | 737 kB 31.6 MB/s eta 0:00:01\r\u001b[K     |███████████████████████████████▍| 747 kB 31.6 MB/s eta 0:00:01\r\u001b[K     |███████████████████████████████▉| 757 kB 31.6 MB/s eta 0:00:01\r\u001b[K     |████████████████████████████████| 761 kB 31.6 MB/s \n",
            "\u001b[?25hRequirement already satisfied: PyYAML in /usr/local/lib/python3.8/dist-packages (from pyngrok) (6.0)\n",
            "Building wheels for collected packages: pyngrok\n",
            "  Building wheel for pyngrok (setup.py) ... \u001b[?25l\u001b[?25hdone\n",
            "  Created wheel for pyngrok: filename=pyngrok-5.2.1-py3-none-any.whl size=19792 sha256=d0b9273973341b494af7eef747af3343a44609e7a8033e7e3dbda08975ce2d9d\n",
            "  Stored in directory: /root/.cache/pip/wheels/5d/f2/70/526da675d32f17577ec47ac4c663084efe39d47c826b6c3bb1\n",
            "Successfully built pyngrok\n",
            "Installing collected packages: pyngrok\n",
            "Successfully installed pyngrok-5.2.1\n"
          ]
        }
      ],
      "source": [
        "!pip install pyngrok"
      ]
    },
    {
      "cell_type": "code",
      "execution_count": null,
      "metadata": {
        "colab": {
          "base_uri": "https://localhost:8080/"
        },
        "id": "rq3ZFuoM5o9N",
        "outputId": "624d42be-d647-4972-b435-448eb2327fc2"
      },
      "outputs": [
        {
          "output_type": "stream",
          "name": "stdout",
          "text": [
            "Authtoken saved to configuration file: /root/.ngrok2/ngrok.yml\n"
          ]
        }
      ],
      "source": [
        "!ngrok authtoken 2IKQZPzBNgaurUDa1NGs1p8oYPw_E3XBxKQesDNJDXWQJPYd"
      ]
    },
    {
      "cell_type": "code",
      "execution_count": null,
      "metadata": {
        "colab": {
          "base_uri": "https://localhost:8080/"
        },
        "id": "GrDw9G7zFyEz",
        "outputId": "8906acfb-f1c7-4537-92dc-2f1113db350d"
      },
      "outputs": [
        {
          "output_type": "stream",
          "name": "stdout",
          "text": [
            " * Serving Flask app \"__main__\" (lazy loading)\n",
            " * Environment: production\n",
            "\u001b[31m   WARNING: This is a development server. Do not use it in a production deployment.\u001b[0m\n",
            "\u001b[2m   Use a production WSGI server instead.\u001b[0m\n",
            " * Debug mode: off\n"
          ]
        },
        {
          "output_type": "stream",
          "name": "stderr",
          "text": [
            "INFO:werkzeug: * Running on http://127.0.0.1:5000/ (Press CTRL+C to quit)\n"
          ]
        },
        {
          "output_type": "stream",
          "name": "stdout",
          "text": [
            " * Running on http://e583-35-236-225-131.ngrok.io\n",
            " * Traffic stats available on http://127.0.0.1:4040\n"
          ]
        },
        {
          "output_type": "stream",
          "name": "stderr",
          "text": [
            "INFO:werkzeug:127.0.0.1 - - [02/Dec/2022 12:34:22] \"\u001b[37mGET / HTTP/1.1\u001b[0m\" 200 -\n",
            "INFO:werkzeug:127.0.0.1 - - [02/Dec/2022 12:34:22] \"\u001b[33mGET /favicon.ico HTTP/1.1\u001b[0m\" 404 -\n",
            "INFO:werkzeug:127.0.0.1 - - [02/Dec/2022 12:34:59] \"\u001b[37mGET / HTTP/1.1\u001b[0m\" 200 -\n"
          ]
        }
      ],
      "source": [
        "from flask import Flask\n",
        "from flask_ngrok import run_with_ngrok\n",
        "app = Flask(__name__)\n",
        "run_with_ngrok(app)   \n",
        "  \n",
        "@app.route(\"/\")\n",
        "def home():\n",
        "    return '<h1>Enter your query</h1><br><input type=\"text\" id=\"fname\" name=\"fname\">  <button>submit</button>'\n",
        "    \n",
        "app.run()"
      ]
    }
  ],
  "metadata": {
    "colab": {
      "provenance": []
    },
    "kernelspec": {
      "display_name": "Python 3",
      "language": "python",
      "name": "python3"
    },
    "language_info": {
      "codemirror_mode": {
        "name": "ipython",
        "version": 3
      },
      "file_extension": ".py",
      "mimetype": "text/x-python",
      "name": "python",
      "nbconvert_exporter": "python",
      "pygments_lexer": "ipython3",
      "version": "3.8.5"
    }
  },
  "nbformat": 4,
  "nbformat_minor": 0
}